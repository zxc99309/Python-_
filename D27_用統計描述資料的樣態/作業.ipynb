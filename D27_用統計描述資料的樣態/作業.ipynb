{
 "cells": [
  {
   "cell_type": "markdown",
   "metadata": {
    "id": "H-z4L8J371GO"
   },
   "source": [
    "## 作業:\n",
    "今天學到不同統計量之間特性，  \n",
    "試著分析男生女生身高資料，  \n",
    "試著回答下面的問題:  \n",
    "Q1:試著用今天所教的內容，如何描述這兩組資料的樣態?    \n",
    "Q2: 請問男生和女生在平均身高上誰比較高?   \n",
    "Q3:請問第二題的答案和日常生活中觀察的一致嗎? 如果不一致，你覺得原因可能為何?    \n",
    "上述問題透過  python 語法進行運算，\n",
    "並將上述答案填寫在 (google 表單)[https://docs.google.com/forms/d/e/1FAIpQLSdDzwpeJl8YLPwZaW8pBZvtuXY9kIbbZLqxcXyzFaoraV5JEA/viewform ]\n",
    "![](作業資料圖檔.PNG)"
   ]
  },
  {
   "cell_type": "code",
   "execution_count": 1,
   "metadata": {
    "id": "yz28_IgkYdBW"
   },
   "outputs": [],
   "source": [
    "# library\n",
    "import matplotlib.pyplot as plt\n",
    "import numpy as np\n",
    "import pandas as pd\n",
    "from scipy import stats\n",
    "import math\n",
    "import statistics\n",
    "import seaborn as sns"
   ]
  },
  {
   "cell_type": "code",
   "execution_count": 5,
   "metadata": {
    "id": "3NtzuWtt71GU",
    "outputId": "be21c4eb-a6c2-4674-aadd-d378bafc0428"
   },
   "outputs": [],
   "source": [
    "## 輸入資料\n",
    "'''\n",
    "你的程式碼\n",
    "'''\n",
    "\n",
    "boys=[164, 176, 169, 169, 165, 175, 159, 151, 144, 160, 183, 165, 156, 170,\n",
    " 164, 173, 165, 163, 177, 171]\n",
    "\n",
    "girls = [169, 170, 162, 154, 183, 173, 169, 167, 170, 185, 162, 175, 168, 151, 181, 170, 182, 156, 159, 160]"
   ]
  },
  {
   "cell_type": "code",
   "execution_count": 24,
   "metadata": {
    "id": "uDM9AzrY71GW",
    "outputId": "f4e7ede3-fda9-4858-f122-af7c3b3f3ad4"
   },
   "outputs": [
    {
     "name": "stdout",
     "output_type": "stream",
     "text": [
      "mean_boys :  165.95\n",
      "mean_girls :  168.3 \n",
      "\n",
      "median_boys :  165.0\n",
      "median_girls :  169.0 \n",
      "\n",
      "mode_boys :  165\n",
      "mode_girls :  170 \n",
      "\n",
      "range_boys :  39\n",
      "range_girls :  34 \n",
      "\n",
      "variance_boys :  84.89210526315789\n",
      "variance_girls :  95.37894736842105 \n",
      "\n",
      "std_boys :  9.213691185575838\n",
      "std_girls :  9.766214587465353 \n",
      "\n",
      "boys_90百分位數= 176.1\n",
      "boys_50百分位數= 165.0\n",
      "boys_20百分位數= 159.8 \n",
      "\n",
      "girls_90百分位數= 182.1\n",
      "girls_50百分位數= 169.0\n",
      "girls_20百分位數= 159.8 \n",
      "\n",
      "boy_skew -0.47132127317376954\n",
      "boy_kurtosis 0.19395882957876331 \n",
      "\n",
      "girl_skew 0.059853211293650746\n",
      "girl_kurtosis -0.8203607083948947 \n",
      "\n"
     ]
    }
   ],
   "source": [
    "#Q1:試著用今天所教的內容，如何描述這兩組資料的樣態?\n",
    "#暗示:  分別計算男生和女生的統計量\n",
    "'''\n",
    "你的答案\n",
    "'''\n",
    "print('mean_boys : ', np.mean(boys))\n",
    "print('mean_girls : ', np.mean(girls), '\\n')\n",
    "\n",
    "print('median_boys : ', np.median(boys))\n",
    "print('median_girls : ', np.median(girls), '\\n')\n",
    "\n",
    "print('mode_boys : ', statistics.mode(boys))\n",
    "print('mode_girls : ', statistics.mode(girls), '\\n')\n",
    "\n",
    "print('range_boys : ', np.max(boys) - np.min(boys))\n",
    "print('range_girls : ', np.max(girls) - np.min(girls), '\\n')\n",
    "\n",
    "print('variance_boys : ', statistics.variance(boys))\n",
    "print('variance_girls : ', statistics.variance(girls), '\\n')\n",
    "\n",
    "print('std_boys : ', statistics.stdev(boys))\n",
    "print('std_girls : ', statistics.stdev(girls), '\\n')\n",
    "\n",
    "print(\"boys_90百分位數=\",np.percentile(boys, 90))\n",
    "print(\"boys_50百分位數=\",np.percentile(boys, 50))\n",
    "print(\"boys_20百分位數=\",np.percentile(boys, 20), '\\n')\n",
    "\n",
    "print(\"girls_90百分位數=\",np.percentile(girls, 90))\n",
    "print(\"girls_50百分位數=\",np.percentile(girls, 50))\n",
    "print(\"girls_20百分位數=\",np.percentile(girls, 20), '\\n')\n",
    "\n",
    "\n",
    "print('boy_skew', stats.skew(boys))\n",
    "print('boy_kurtosis', stats.kurtosis(boys), '\\n')\n",
    "\n",
    "\n",
    "print('girl_skew', stats.skew(girls))\n",
    "print('girl_kurtosis', stats.kurtosis(girls), '\\n')"
   ]
  },
  {
   "cell_type": "code",
   "execution_count": 26,
   "metadata": {
    "id": "xH_GNsC271GW",
    "outputId": "f4b4c46a-0d8b-421c-9c70-0ebf2aab0e31"
   },
   "outputs": [
    {
     "name": "stdout",
     "output_type": "stream",
     "text": [
      "mean_boys :  165.95\n",
      "mean_girls :  168.3 \n",
      "\n",
      "girls > boys\n"
     ]
    }
   ],
   "source": [
    "#Q2: 請問男生和女生在平均身高上誰比較高? \n",
    "'''\n",
    "你的答案\n",
    "'''\n",
    "mean_boys = np.mean(boys)\n",
    "mean_girls = np.mean(girls)\n",
    "print('mean_boys : ', mean_boys)\n",
    "print('mean_girls : ', mean_girls, '\\n')\n",
    "\n",
    "if mean_girls > mean_boys:\n",
    "    print('girls > boys')\n",
    "else:\n",
    "    print('boys > girls')"
   ]
  },
  {
   "cell_type": "code",
   "execution_count": 27,
   "metadata": {
    "id": "xAzZU0Dv71GX",
    "outputId": "e2017c09-70fc-41ab-99c0-9d41fe21629d"
   },
   "outputs": [
    {
     "data": {
      "text/plain": [
       "'\\n你的答案\\n'"
      ]
     },
     "execution_count": 27,
     "metadata": {},
     "output_type": "execute_result"
    }
   ],
   "source": [
    "#Q3:請問第二題的答案和日常生活中觀察的一致嗎? 如果不一致，你覺得原因可能為何? \n",
    "'''\n",
    "你的答案\n",
    "'''\n",
    "\n",
    "# 可能抽樣到的樣本裡， 女生平均身高高於男生平均身高"
   ]
  },
  {
   "cell_type": "code",
   "execution_count": null,
   "metadata": {},
   "outputs": [],
   "source": []
  }
 ],
 "metadata": {
  "colab": {
   "collapsed_sections": [],
   "name": "作業.ipynb",
   "provenance": []
  },
  "kernelspec": {
   "display_name": "Python 3",
   "language": "python",
   "name": "python3"
  },
  "language_info": {
   "codemirror_mode": {
    "name": "ipython",
    "version": 3
   },
   "file_extension": ".py",
   "mimetype": "text/x-python",
   "name": "python",
   "nbconvert_exporter": "python",
   "pygments_lexer": "ipython3",
   "version": "3.8.8"
  }
 },
 "nbformat": 4,
 "nbformat_minor": 1
}
